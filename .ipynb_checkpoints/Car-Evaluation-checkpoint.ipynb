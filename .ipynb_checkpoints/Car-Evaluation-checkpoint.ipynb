{
 "cells": [
  {
   "cell_type": "code",
   "execution_count": 87,
   "id": "04b8dc55-935f-4dbe-a978-e7505c5d3407",
   "metadata": {},
   "outputs": [],
   "source": [
    "import numpy as np\n",
    "import pandas as pd"
   ]
  },
  {
   "cell_type": "markdown",
   "id": "fe3ca020-7fb7-47c4-9c50-a097c948d106",
   "metadata": {},
   "source": [
    "**Loading the Dataset** <br>\n",
    "In this section, the notebook uses the `ucimlrepo` package to fetch the Car Evaluation dataset from the UCI Machine Learning Repository."
   ]
  },
  {
   "cell_type": "code",
   "execution_count": 89,
   "id": "63cdbea0-3c0f-43c0-9476-e78c31ff52a4",
   "metadata": {},
   "outputs": [],
   "source": [
    "from ucimlrepo import fetch_ucirepo \n",
    "  \n",
    "# fetch dataset \n",
    "car_evaluation = fetch_ucirepo(id=19) \n",
    "  \n",
    "# data (as pandas dataframes) \n",
    "X = car_evaluation.data.features \n",
    "y = car_evaluation.data.targets "
   ]
  },
  {
   "cell_type": "markdown",
   "id": "f3fa75b2-2c40-402e-be15-d0aa7d684972",
   "metadata": {},
   "source": [
    "**Dataset Overview** <br>\n",
    "Here, the data is divided into features (`X`) and targets (`y`). This cell displays their types and shapes to confirm successful loading."
   ]
  },
  {
   "cell_type": "code",
   "execution_count": 91,
   "id": "6270681a-0067-4fc4-b1fe-527dc65ef018",
   "metadata": {},
   "outputs": [
    {
     "name": "stdout",
     "output_type": "stream",
     "text": [
      "<class 'pandas.core.frame.DataFrame'>\n",
      "<class 'pandas.core.frame.DataFrame'>\n",
      "(1728, 6)\n",
      "(1728, 1)\n"
     ]
    }
   ],
   "source": [
    "print(type(X))\n",
    "print(type(y))\n",
    "\n",
    "print(X.shape)\n",
    "print(y.shape)"
   ]
  },
  {
   "cell_type": "markdown",
   "id": "0ccb4b1f-9e7b-4444-baaa-7f9e170833bd",
   "metadata": {},
   "source": [
    "**One Hot Encoding** <br>\n",
    "One-hot encoding is applied to both the feature and target datasets to convert categorical data into numerical form."
   ]
  },
  {
   "cell_type": "code",
   "execution_count": 93,
   "id": "986e15d7-57c7-4db0-b08d-374c89539dfd",
   "metadata": {},
   "outputs": [
    {
     "name": "stdout",
     "output_type": "stream",
     "text": [
      "<class 'pandas.core.frame.DataFrame'>\n",
      "<class 'pandas.core.frame.DataFrame'>\n",
      "(1728, 21)\n",
      "(1728, 4)\n"
     ]
    }
   ],
   "source": [
    "X_encoded = pd.get_dummies(X) # One hot encoding\n",
    "y_encoded = pd.get_dummies(y) # One hot encoding\n",
    "\n",
    "# print(X_encoded)\n",
    "# print(y_encoded)\n",
    "\n",
    "print(type(X))\n",
    "print(type(y))\n",
    "\n",
    "print(X_encoded.shape)\n",
    "print(y_encoded.shape)"
   ]
  },
  {
   "cell_type": "markdown",
   "id": "098c3739-2b76-49a8-855d-dd581d7e92ca",
   "metadata": {},
   "source": [
    "**Dataset Partitioning** <br>\n",
    "The dataset is split into training, validation, and test sets: 70% for training, with the remaining 30% split equally between validation and testing sets."
   ]
  },
  {
   "cell_type": "code",
   "execution_count": 95,
   "id": "30a0b76c-11c1-42ec-b3e4-52452cc2a71e",
   "metadata": {},
   "outputs": [],
   "source": [
    "from sklearn.model_selection import train_test_split\n",
    "\n",
    "# data split, 70% training and 30% temp (temp = validation + test)\n",
    "X_train, X_temp, y_train, y_temp = train_test_split(X_encoded, y_encoded, test_size=0.3, random_state=42)\n",
    "\n",
    "# 30% temp data into 15% validation and 15% test\n",
    "X_val, X_test, y_val, y_test = train_test_split(X_temp, y_temp, test_size=0.5, random_state=42)"
   ]
  },
  {
   "cell_type": "markdown",
   "id": "589868dd-781c-46b6-8a40-929dc87ef189",
   "metadata": {},
   "source": [
    "**Metrics Calculation Function** <br>\n",
    "This cell defines a function, `calculate_metrics`, that calculates various metrics (confusion matrix, accuracy, precision, recall, and F1 score) to evaluate the model's performance."
   ]
  },
  {
   "cell_type": "code",
   "execution_count": 97,
   "id": "394fe74e-e915-4cdc-add3-99ea460ed410",
   "metadata": {},
   "outputs": [],
   "source": [
    "from sklearn.metrics import confusion_matrix\n",
    "import numpy as np\n",
    "\n",
    "def calculate_metrics(y_true, y_pred):\n",
    "    acc_acc = acc_good = acc_unacc = acc_vgood = 0\n",
    "    good_acc = good_good = good_unacc = good_vgood = 0\n",
    "    unacc_acc = unacc_good = unacc_unacc = unacc_vgood = 0\n",
    "    vgood_acc = vgood_good = vgood_unacc = vgood_vgood = 0\n",
    "\n",
    "    y_true = y_true.to_numpy()\n",
    "    \n",
    "    for i in range(len(y_true)):\n",
    "        actual = y_true[i]\n",
    "        predicted = y_pred[i]\n",
    "        \n",
    "        if actual[0] and predicted[0]:\n",
    "            acc_acc += 1\n",
    "        elif actual[0] and predicted[1]:\n",
    "            acc_good += 1\n",
    "        elif actual[0] and predicted[2]:\n",
    "            acc_unacc += 1\n",
    "        elif actual[0] and predicted[3]:\n",
    "            acc_vgood += 1\n",
    "        elif actual[1] and predicted[0]:\n",
    "            good_acc += 1\n",
    "        elif actual[1] and predicted[1]:\n",
    "            good_good += 1\n",
    "        elif actual[1] and predicted[2]:\n",
    "            good_unacc += 1\n",
    "        elif actual[1] and predicted[3]:\n",
    "            good_vgood += 1\n",
    "        elif actual[2] and predicted[0]:\n",
    "            unacc_acc += 1\n",
    "        elif actual[2] and predicted[1]:\n",
    "            unacc_good += 1\n",
    "        elif actual[2] and predicted[2]:\n",
    "            unacc_unacc += 1\n",
    "        elif actual[2] and predicted[3]:\n",
    "            unacc_vgood += 1\n",
    "        elif actual[3] and predicted[0]:\n",
    "            vgood_acc += 1\n",
    "        elif actual[3] and predicted[1]:\n",
    "            vgood_good += 1\n",
    "        elif actual[3] and predicted[2]:\n",
    "            vgood_unacc += 1\n",
    "        elif actual[3] and predicted[3]:\n",
    "            vgood_vgood += 1\n",
    "\n",
    "    confusion_matrix = [\n",
    "        [acc_acc, acc_good, acc_unacc, acc_vgood],\n",
    "        [good_acc, good_good, good_unacc, good_vgood],\n",
    "        [unacc_acc, unacc_good, unacc_unacc, unacc_vgood],\n",
    "        [vgood_acc, vgood_good, vgood_unacc, vgood_vgood]\n",
    "    ]\n",
    "\n",
    "    # Accuracy\n",
    "    total_correct = acc_acc + good_good + unacc_unacc + vgood_vgood\n",
    "    total_predictions = sum(sum(row) for row in confusion_matrix)\n",
    "    accuracy = total_correct / total_predictions\n",
    "\n",
    "    # Precision calculations\n",
    "    Precision_of_acc = acc_acc / (acc_acc + good_acc + unacc_acc + vgood_acc)\n",
    "    Precision_of_good = good_good / (acc_good + good_good + unacc_good + vgood_good)\n",
    "    Precision_of_unacc = unacc_unacc / (acc_unacc + good_unacc + unacc_unacc + vgood_unacc)\n",
    "    Precision_of_vgood = vgood_vgood / (acc_vgood + good_vgood + unacc_vgood + vgood_vgood)\n",
    "    average_precision = (Precision_of_acc + Precision_of_good + Precision_of_unacc + Precision_of_vgood) / 4.0\n",
    "\n",
    "    # Recall calculations\n",
    "    Recall_of_acc = acc_acc / (acc_acc + acc_good + acc_unacc + acc_vgood)\n",
    "    Recall_of_good = good_good / (good_acc + good_good + good_unacc + good_vgood)\n",
    "    Recall_of_unacc = unacc_unacc / (unacc_acc + unacc_good + unacc_unacc + unacc_vgood)\n",
    "    Recall_of_vgood = vgood_vgood / (vgood_acc + vgood_good + vgood_unacc + vgood_vgood)\n",
    "    average_recall = (Recall_of_acc + Recall_of_good + Recall_of_unacc + Recall_of_vgood) / 4.0\n",
    "\n",
    "    # F1 Score\n",
    "    average_f1_score = 2 * ((average_precision * average_recall) / (average_precision + average_recall))\n",
    "\n",
    "    print(\"Confusion Matrix:\")\n",
    "    for row in confusion_matrix:\n",
    "        print(row)\n",
    "\n",
    "    print(f\"Accuracy: {accuracy}\")\n",
    "    print(f\"Average Precision: {average_precision}\")\n",
    "    print(f\"Average Recall: {average_recall}\")\n",
    "    print(f\"Average F1 Score: {average_f1_score}\")"
   ]
  },
  {
   "cell_type": "markdown",
   "id": "46bc2132-5165-4f00-b01e-e5e7e290d895",
   "metadata": {},
   "source": [
    "**Decision Tree Model: Initial Evaluation** <br>\n",
    "In this cell, a basic Decision Tree Classifier model is trained on the training dataset. The model is evaluated on both the validation and test datasets using the `calculate_metrics` function, which provides metrics such as accuracy, precision, recall, and F1-score, calculated manually. This approach serves as a baseline for model performance."
   ]
  },
  {
   "cell_type": "code",
   "execution_count": 99,
   "id": "a10872db-6751-4c5a-9aab-8be58d58b297",
   "metadata": {},
   "outputs": [
    {
     "name": "stdout",
     "output_type": "stream",
     "text": [
      "Validation results of Decision Tree: \n",
      "Confusion Matrix:\n",
      "[51, 2, 2, 2]\n",
      "[1, 8, 0, 1]\n",
      "[0, 0, 178, 0]\n",
      "[1, 1, 0, 12]\n",
      "Accuracy: 0.9613899613899614\n",
      "Average Precision: 0.869606441776253\n",
      "Average Recall: 0.8879699248120301\n",
      "Average F1 Score: 0.8786922507601089\n",
      "-------------------------------\n",
      "Test results of Decision Tree: \n",
      "Confusion Matrix:\n",
      "[55, 3, 2, 1]\n",
      "[0, 9, 0, 0]\n",
      "[2, 0, 178, 0]\n",
      "[2, 1, 0, 7]\n",
      "Accuracy: 0.9576923076923077\n",
      "Average Precision: 0.8720999927567724\n",
      "Average Recall: 0.8976320582877959\n",
      "Average F1 Score: 0.8846818489488034\n"
     ]
    }
   ],
   "source": [
    "from sklearn.tree import DecisionTreeClassifier\n",
    "\n",
    "model = DecisionTreeClassifier()\n",
    "model.fit(X_train, y_train)\n",
    "\n",
    "y_pred_val = model.predict(X_val)\n",
    "print(\"Validation results of Decision Tree: \")\n",
    "calculate_metrics(y_val, y_pred_val)\n",
    "print(\"-------------------------------\")\n",
    "\n",
    "y_pred_test = model.predict(X_test)\n",
    "print(\"Test results of Decision Tree: \")\n",
    "calculate_metrics(y_test, y_pred_test)"
   ]
  },
  {
   "cell_type": "markdown",
   "id": "81c23e10-706d-42e2-b8b2-1f1d2320bfdc",
   "metadata": {},
   "source": [
    "**Decision Tree Model: Hyperparameter Tuning** <br>\n",
    "Here, hyperparameters of the Decision Tree model are optimized to improve performance. The tuned model is evaluated on the validation and test datasets, using the same `calculate_metrics` function to assess the improvement over the baseline. This helps determine the effect of tuning on model performance."
   ]
  },
  {
   "cell_type": "code",
   "execution_count": 101,
   "id": "fd65e00f-2556-4d40-a972-d074f9a20c58",
   "metadata": {},
   "outputs": [
    {
     "name": "stdout",
     "output_type": "stream",
     "text": [
      "Validation results for Model1: \n",
      "Confusion Matrix:\n",
      "[48, 2, 4, 2]\n",
      "[0, 8, 0, 1]\n",
      "[1, 0, 176, 0]\n",
      "[1, 2, 0, 11]\n",
      "Accuracy: 0.94921875\n",
      "Average Precision: 0.8475396825396825\n",
      "Average Recall: 0.8815240785579769\n",
      "Average F1 Score: 0.8641979023582292\n",
      "-------------------------------\n",
      "Validation results for Model2: \n",
      "Confusion Matrix:\n",
      "[46, 1, 4, 2]\n",
      "[0, 8, 0, 1]\n",
      "[3, 0, 175, 0]\n",
      "[1, 2, 0, 11]\n",
      "Accuracy: 0.9448818897637795\n",
      "Average Precision: 0.8526601610679823\n",
      "Average Recall: 0.8814184425801979\n",
      "Average F1 Score: 0.8668008354841572\n",
      "-------------------------------\n",
      "Validation results for Model3: \n",
      "Confusion Matrix:\n",
      "[47, 2, 7, 1]\n",
      "[2, 6, 0, 2]\n",
      "[3, 0, 175, 0]\n",
      "[5, 0, 0, 9]\n",
      "Accuracy: 0.915057915057915\n",
      "Average Precision: 0.8215249662618084\n",
      "Average Recall: 0.7626411534454113\n",
      "Average F1 Score: 0.7909886975362169\n",
      "-------------------------------\n",
      "Validation results for Model4: \n",
      "Confusion Matrix:\n",
      "[52, 1, 2, 2]\n",
      "[0, 8, 0, 1]\n",
      "[0, 0, 178, 0]\n",
      "[1, 1, 0, 12]\n",
      "Accuracy: 0.9689922480620154\n",
      "Average Precision: 0.8925052410901468\n",
      "Average Recall: 0.9145781119465329\n",
      "Average F1 Score: 0.9034068704433948\n",
      "-------------------------------\n",
      "Test results for Model4: \n",
      "Confusion Matrix:\n",
      "[56, 2, 1, 1]\n",
      "[0, 9, 0, 0]\n",
      "[2, 0, 178, 0]\n",
      "[2, 1, 0, 7]\n",
      "Accuracy: 0.9652509652509652\n",
      "Average Precision: 0.8881866852886406\n",
      "Average Recall: 0.9055555555555557\n",
      "Average F1 Score: 0.8967870287261233\n"
     ]
    }
   ],
   "source": [
    "model1 = DecisionTreeClassifier(max_depth=10, min_samples_split=4, criterion='gini', min_samples_leaf=1, random_state=42)\n",
    "model2 = DecisionTreeClassifier(max_depth=9, min_samples_split=5, criterion='entropy', min_samples_leaf=4, random_state=42)\n",
    "model3 = DecisionTreeClassifier(max_depth=8, min_samples_split=2, criterion='gini', min_samples_leaf=10, random_state=42)\n",
    "model4 = DecisionTreeClassifier(max_depth=11, min_samples_split=2, criterion='entropy', min_samples_leaf=1, random_state=42)\n",
    "\n",
    "model1.fit(X_train, y_train)\n",
    "model2.fit(X_train, y_train)\n",
    "model3.fit(X_train, y_train)\n",
    "model4.fit(X_train, y_train)\n",
    "\n",
    "y_pred_val1 = model1.predict(X_val)\n",
    "y_pred_val2 = model2.predict(X_val)\n",
    "y_pred_val3 = model3.predict(X_val)\n",
    "y_pred_val4 = model4.predict(X_val)\n",
    "\n",
    "# Validation results for Model1\n",
    "print(\"Validation results for Model1: \")\n",
    "calculate_metrics(y_val, y_pred_val1)\n",
    "print(\"-------------------------------\")\n",
    "\n",
    "# Validation results for Model2\n",
    "print(\"Validation results for Model2: \")\n",
    "calculate_metrics(y_val, y_pred_val2)\n",
    "print(\"-------------------------------\")\n",
    "\n",
    "# Validation results for Model3\n",
    "print(\"Validation results for Model3: \")\n",
    "calculate_metrics(y_val, y_pred_val3)\n",
    "print(\"-------------------------------\")\n",
    "\n",
    "# Validation results for Model4\n",
    "print(\"Validation results for Model4: \")\n",
    "calculate_metrics(y_val, y_pred_val4)\n",
    "print(\"-------------------------------\")\n",
    "\n",
    "# Test results for Model4\n",
    "y_pred_test = model4.predict(X_test)\n",
    "print(\"Test results for Model4: \")\n",
    "calculate_metrics(y_test, y_pred_test)"
   ]
  },
  {
   "cell_type": "markdown",
   "id": "4fb88b6b-2d79-4ea2-b65e-93ae45097ec6",
   "metadata": {},
   "source": [
    "**XGBoost Model: Initial Evaluation** <br>\n",
    "In this section, an XGBoost Classifier is trained on the training dataset. Like the Decision Tree model, it is evaluated on both the validation and test datasets using the custom `calculate_metrics` function. This provides a comparison of XGBoost's performance against the Decision Tree baseline."
   ]
  },
  {
   "cell_type": "code",
   "execution_count": 103,
   "id": "ed023751-4544-4bbd-95d0-c6a768c70bc6",
   "metadata": {},
   "outputs": [
    {
     "name": "stdout",
     "output_type": "stream",
     "text": [
      "Validation results of XGBoost: \n",
      "Confusion Matrix:\n",
      "[52, 2, 0, 1]\n",
      "[0, 7, 0, 1]\n",
      "[0, 0, 178, 0]\n",
      "[1, 1, 0, 11]\n",
      "Accuracy: 0.9763779527559056\n",
      "Average Precision: 0.8818214804063861\n",
      "Average Recall: 0.9166520979020979\n",
      "Average F1 Score: 0.8988995109396035\n",
      "-------------------------------\n",
      "Test results of XGBoost: \n",
      "Confusion Matrix:\n",
      "[52, 4, 0, 0]\n",
      "[0, 8, 0, 0]\n",
      "[1, 0, 179, 0]\n",
      "[0, 0, 0, 7]\n",
      "Accuracy: 0.9800796812749004\n",
      "Average Precision: 0.9119496855345912\n",
      "Average Recall: 0.9807539682539683\n",
      "Average F1 Score: 0.9451012271738607\n"
     ]
    }
   ],
   "source": [
    "from xgboost import XGBClassifier\n",
    "\n",
    "xgb_model = XGBClassifier(random_state=42)\n",
    "xgb_model.fit(X_train, y_train)\n",
    "\n",
    "y_pred_xgb = xgb_model.predict(X_val)\n",
    "print(\"Validation results of XGBoost: \")\n",
    "calculate_metrics(y_val, y_pred_xgb)\n",
    "print(\"-------------------------------\")\n",
    "\n",
    "y_pred_xgb = xgb_model.predict(X_test)\n",
    "print(\"Test results of XGBoost: \")\n",
    "calculate_metrics(y_test, y_pred_xgb)"
   ]
  },
  {
   "cell_type": "markdown",
   "id": "63c93f30-3d74-40f6-a6bd-8cce3458014c",
   "metadata": {},
   "source": [
    "**XGBoost Model: Hyperparameter Tuning** <br>\n",
    "This cell involves hyperparameter tuning for the XGBoost Classifier to maximize its performance. The optimized model is then evaluated on the validation and test sets, providing a final comparison of the tuned XGBoost model against both the baseline and tuned Decision Tree models."
   ]
  },
  {
   "cell_type": "code",
   "execution_count": 105,
   "id": "ba58731b-dfff-49ab-91e3-8800a6da0485",
   "metadata": {},
   "outputs": [
    {
     "name": "stdout",
     "output_type": "stream",
     "text": [
      "Validation results for Model1: \n",
      "Confusion Matrix:\n",
      "[47, 2, 0, 1]\n",
      "[0, 3, 0, 1]\n",
      "[0, 0, 174, 0]\n",
      "[1, 0, 0, 11]\n",
      "Accuracy: 0.9791666666666666\n",
      "Average Precision: 0.8563301282051282\n",
      "Average Recall: 0.9016666666666666\n",
      "Average F1 Score: 0.8784138111255951\n",
      "-------------------------------\n",
      "Validation results for Model2: \n",
      "Confusion Matrix:\n",
      "[51, 2, 0, 0]\n",
      "[1, 3, 0, 0]\n",
      "[0, 0, 177, 0]\n",
      "[1, 0, 0, 10]\n",
      "Accuracy: 0.9836734693877551\n",
      "Average Precision: 0.8905660377358491\n",
      "Average Recall: 0.9053387650085764\n",
      "Average F1 Score: 0.897891642731014\n",
      "-------------------------------\n",
      "Validation results for Model3: \n",
      "Confusion Matrix:\n",
      "[53, 2, 0, 1]\n",
      "[1, 7, 0, 1]\n",
      "[0, 0, 178, 0]\n",
      "[1, 0, 0, 12]\n",
      "Accuracy: 0.9765625\n",
      "Average Precision: 0.8996392496392497\n",
      "Average Recall: 0.911820818070818\n",
      "Average F1 Score: 0.9056890750141248\n",
      "-------------------------------\n",
      "Validation results for Model4: \n",
      "Confusion Matrix:\n",
      "[53, 2, 0, 1]\n",
      "[1, 7, 0, 1]\n",
      "[0, 0, 178, 0]\n",
      "[1, 0, 0, 12]\n",
      "Accuracy: 0.9765625\n",
      "Average Precision: 0.8996392496392497\n",
      "Average Recall: 0.911820818070818\n",
      "Average F1 Score: 0.9056890750141248\n",
      "-------------------------------\n",
      "Test results for Model4: \n",
      "Confusion Matrix:\n",
      "[54, 4, 0, 0]\n",
      "[0, 8, 0, 0]\n",
      "[1, 0, 179, 0]\n",
      "[1, 0, 0, 7]\n",
      "Accuracy: 0.9763779527559056\n",
      "Average Precision: 0.9077380952380952\n",
      "Average Recall: 0.9501197318007663\n",
      "Average F1 Score: 0.9284455064762251\n"
     ]
    }
   ],
   "source": [
    "model1 = XGBClassifier(max_depth=10, colsample_bytree=0.7, learning_rate=0.01, n_estimators=200,subsample=1.0)\n",
    "model2 = XGBClassifier(max_depth=11, colsample_bytree=0.8, learning_rate=0.05, n_estimators=100,subsample=0.5)\n",
    "model3 = XGBClassifier(max_depth=12, colsample_bytree=0.9, learning_rate=0.1, n_estimators=150,subsample=0.7)\n",
    "model4 = XGBClassifier(max_depth=13, colsample_bytree=1.0, learning_rate=0.2, n_estimators=170, subsample=0.9)\n",
    "\n",
    "model1.fit(X_train, y_train)\n",
    "model2.fit(X_train, y_train)\n",
    "model3.fit(X_train, y_train)\n",
    "model4.fit(X_train, y_train)\n",
    "\n",
    "y_pred_val1 = model1.predict(X_val)\n",
    "y_pred_val2 = model2.predict(X_val)\n",
    "y_pred_val3 = model3.predict(X_val)\n",
    "y_pred_val4 = model4.predict(X_val)\n",
    "\n",
    "# Validation results for model1\n",
    "print(\"Validation results for Model1: \")\n",
    "calculate_metrics(y_val, y_pred_val1)\n",
    "print(\"-------------------------------\")\n",
    "\n",
    "# Validation results for model2\n",
    "print(\"Validation results for Model2: \")\n",
    "calculate_metrics(y_val, y_pred_val2)\n",
    "print(\"-------------------------------\")\n",
    "\n",
    "# Validation results for model3\n",
    "print(\"Validation results for Model3: \")\n",
    "calculate_metrics(y_val, y_pred_val3)\n",
    "print(\"-------------------------------\")\n",
    "\n",
    "# Validation results for model4\n",
    "print(\"Validation results for Model4: \")\n",
    "calculate_metrics(y_val, y_pred_val4)\n",
    "print(\"-------------------------------\")\n",
    "\n",
    "# Test results for Model4\n",
    "y_pred_test = model4.predict(X_test)\n",
    "print(\"Test results for Model4: \")\n",
    "calculate_metrics(y_test, y_pred_test)"
   ]
  }
 ],
 "metadata": {
  "kernelspec": {
   "display_name": "Python 3 (ipykernel)",
   "language": "python",
   "name": "python3"
  },
  "language_info": {
   "codemirror_mode": {
    "name": "ipython",
    "version": 3
   },
   "file_extension": ".py",
   "mimetype": "text/x-python",
   "name": "python",
   "nbconvert_exporter": "python",
   "pygments_lexer": "ipython3",
   "version": "3.12.4"
  }
 },
 "nbformat": 4,
 "nbformat_minor": 5
}
